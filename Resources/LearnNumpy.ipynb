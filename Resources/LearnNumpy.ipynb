{
 "cells": [
  {
   "cell_type": "code",
   "execution_count": 1,
   "id": "6ac6b29f-7420-4cff-b190-95f61956d7d7",
   "metadata": {},
   "outputs": [],
   "source": [
    "import numpy as np"
   ]
  },
  {
   "cell_type": "code",
   "execution_count": 2,
   "id": "3a0af8db-4306-47b1-bae2-9310d8bfdc15",
   "metadata": {},
   "outputs": [
    {
     "data": {
      "text/plain": [
       "'2.3.1'"
      ]
     },
     "execution_count": 2,
     "metadata": {},
     "output_type": "execute_result"
    }
   ],
   "source": [
    "np.__version__"
   ]
  },
  {
   "cell_type": "markdown",
   "id": "0d827040-9e7f-4dbc-97a6-bbeca6d93694",
   "metadata": {},
   "source": [
    "## create and read "
   ]
  },
  {
   "cell_type": "markdown",
   "id": "6811e372-35d3-4a2b-a030-2e935aa053db",
   "metadata": {},
   "source": [
    "#### 1D array"
   ]
  },
  {
   "cell_type": "code",
   "execution_count": 3,
   "id": "c9843478-b56c-44ef-bca4-8c29e3dbcf3e",
   "metadata": {},
   "outputs": [],
   "source": [
    "arr1 = np.array([1,2,3,4,5,6])"
   ]
  },
  {
   "cell_type": "code",
   "execution_count": 4,
   "id": "50f0d645-f7fd-4126-8bdc-3e0104b851f8",
   "metadata": {},
   "outputs": [
    {
     "data": {
      "text/plain": [
       "array([1, 2, 3, 4, 5, 6])"
      ]
     },
     "execution_count": 4,
     "metadata": {},
     "output_type": "execute_result"
    }
   ],
   "source": [
    "arr1"
   ]
  },
  {
   "cell_type": "code",
   "execution_count": 5,
   "id": "1d1499e6-4311-4070-8440-c3814d6b3272",
   "metadata": {},
   "outputs": [
    {
     "data": {
      "text/plain": [
       "numpy.ndarray"
      ]
     },
     "execution_count": 5,
     "metadata": {},
     "output_type": "execute_result"
    }
   ],
   "source": [
    "type(arr1)"
   ]
  },
  {
   "cell_type": "code",
   "execution_count": 6,
   "id": "558964d3-dd50-4ae1-af85-3ed5f00531f3",
   "metadata": {},
   "outputs": [
    {
     "data": {
      "text/plain": [
       "(6,)"
      ]
     },
     "execution_count": 6,
     "metadata": {},
     "output_type": "execute_result"
    }
   ],
   "source": [
    "arr1.shape\n"
   ]
  },
  {
   "cell_type": "code",
   "execution_count": 7,
   "id": "cbefa655-9297-4a90-9d65-9ca4657f84ef",
   "metadata": {},
   "outputs": [
    {
     "data": {
      "text/plain": [
       "dtype('int64')"
      ]
     },
     "execution_count": 7,
     "metadata": {},
     "output_type": "execute_result"
    }
   ],
   "source": [
    "arr1.dtype\n"
   ]
  },
  {
   "cell_type": "code",
   "execution_count": 8,
   "id": "9a6e5ace-a297-46b1-a27b-b0d71c8a5104",
   "metadata": {},
   "outputs": [
    {
     "data": {
      "text/plain": [
       "1"
      ]
     },
     "execution_count": 8,
     "metadata": {},
     "output_type": "execute_result"
    }
   ],
   "source": [
    "arr1.ndim\n"
   ]
  },
  {
   "cell_type": "code",
   "execution_count": 9,
   "id": "baeb46c7-7a72-4851-8762-895eb294f569",
   "metadata": {},
   "outputs": [
    {
     "data": {
      "text/plain": [
       "6"
      ]
     },
     "execution_count": 9,
     "metadata": {},
     "output_type": "execute_result"
    }
   ],
   "source": [
    "arr1.size"
   ]
  },
  {
   "cell_type": "markdown",
   "id": "11898020-9b4c-42fc-b231-ef1cf1d5f2b8",
   "metadata": {},
   "source": [
    "#### 2d array"
   ]
  },
  {
   "cell_type": "code",
   "execution_count": 10,
   "id": "37ae4a60-b644-4a87-97f5-78585154a6f4",
   "metadata": {},
   "outputs": [],
   "source": [
    "arr2=np.array([[1,4,5],[6,7,4]])\n"
   ]
  },
  {
   "cell_type": "code",
   "execution_count": 11,
   "id": "84a55010-689a-4500-bb31-6fecd89fcdb2",
   "metadata": {},
   "outputs": [
    {
     "data": {
      "text/plain": [
       "array([[1, 4, 5],\n",
       "       [6, 7, 4]])"
      ]
     },
     "execution_count": 11,
     "metadata": {},
     "output_type": "execute_result"
    }
   ],
   "source": [
    "arr2"
   ]
  },
  {
   "cell_type": "code",
   "execution_count": 12,
   "id": "564d1df6-4877-4f83-bfa3-9c3225982d4c",
   "metadata": {},
   "outputs": [
    {
     "data": {
      "text/plain": [
       "2"
      ]
     },
     "execution_count": 12,
     "metadata": {},
     "output_type": "execute_result"
    }
   ],
   "source": [
    "arr2.ndim"
   ]
  },
  {
   "cell_type": "code",
   "execution_count": 13,
   "id": "e9f1ee08-7469-4539-bebe-d353d18223d3",
   "metadata": {},
   "outputs": [
    {
     "data": {
      "text/plain": [
       "(2, 3)"
      ]
     },
     "execution_count": 13,
     "metadata": {},
     "output_type": "execute_result"
    }
   ],
   "source": [
    "arr2.shape # (row,column)"
   ]
  },
  {
   "cell_type": "code",
   "execution_count": 14,
   "id": "1c8c08f2-9c48-4605-882b-6d536737a95d",
   "metadata": {},
   "outputs": [
    {
     "data": {
      "text/plain": [
       "dtype('int64')"
      ]
     },
     "execution_count": 14,
     "metadata": {},
     "output_type": "execute_result"
    }
   ],
   "source": [
    "arr2.dtype\n"
   ]
  },
  {
   "cell_type": "code",
   "execution_count": 15,
   "id": "03cd432c-8db9-4450-95af-b12f119c633b",
   "metadata": {},
   "outputs": [
    {
     "data": {
      "text/plain": [
       "6"
      ]
     },
     "execution_count": 15,
     "metadata": {},
     "output_type": "execute_result"
    }
   ],
   "source": [
    "arr2.size"
   ]
  },
  {
   "cell_type": "markdown",
   "id": "b9fcf1d8-b89d-4379-987b-38658a01e83c",
   "metadata": {},
   "source": [
    "#### 3D array"
   ]
  },
  {
   "cell_type": "code",
   "execution_count": 16,
   "id": "61f2b74d-8934-4810-b541-cc1687d2e771",
   "metadata": {},
   "outputs": [],
   "source": [
    "arr3=np.array([[[1,4,5],[6,7,4]],[[3,5,4],[5,8,7]],[[3,7,9],[4,10,11]]])\n",
    "    "
   ]
  },
  {
   "cell_type": "code",
   "execution_count": 17,
   "id": "f3c6ad9d-9d80-44b0-b227-f292a975c39f",
   "metadata": {},
   "outputs": [
    {
     "data": {
      "text/plain": [
       "array([[[ 1,  4,  5],\n",
       "        [ 6,  7,  4]],\n",
       "\n",
       "       [[ 3,  5,  4],\n",
       "        [ 5,  8,  7]],\n",
       "\n",
       "       [[ 3,  7,  9],\n",
       "        [ 4, 10, 11]]])"
      ]
     },
     "execution_count": 17,
     "metadata": {},
     "output_type": "execute_result"
    }
   ],
   "source": [
    "arr3"
   ]
  },
  {
   "cell_type": "code",
   "execution_count": 18,
   "id": "af2901e7-ab58-49a8-97fc-c4d86a3bb160",
   "metadata": {},
   "outputs": [
    {
     "data": {
      "text/plain": [
       "3"
      ]
     },
     "execution_count": 18,
     "metadata": {},
     "output_type": "execute_result"
    }
   ],
   "source": [
    "arr3.ndim\n"
   ]
  },
  {
   "cell_type": "code",
   "execution_count": 19,
   "id": "51d7be25-dd04-46c6-8f1e-4151dcd79041",
   "metadata": {},
   "outputs": [
    {
     "data": {
      "text/plain": [
       "(3, 2, 3)"
      ]
     },
     "execution_count": 19,
     "metadata": {},
     "output_type": "execute_result"
    }
   ],
   "source": [
    "arr3.shape"
   ]
  },
  {
   "cell_type": "code",
   "execution_count": 20,
   "id": "d01f8985-c77a-42f4-a46e-535f57e8e75b",
   "metadata": {},
   "outputs": [
    {
     "data": {
      "text/plain": [
       "18"
      ]
     },
     "execution_count": 20,
     "metadata": {},
     "output_type": "execute_result"
    }
   ],
   "source": [
    "arr3.size"
   ]
  },
  {
   "cell_type": "code",
   "execution_count": null,
   "id": "ca589427-e684-41c5-80d2-aca411e9e86a",
   "metadata": {},
   "outputs": [],
   "source": []
  },
  {
   "cell_type": "markdown",
   "id": "b21d40fb-74d4-45d1-92a1-e79ede386ecc",
   "metadata": {},
   "source": [
    "## Create random array "
   ]
  },
  {
   "cell_type": "code",
   "execution_count": 21,
   "id": "32a33a43-8c2d-4801-8803-162930049135",
   "metadata": {},
   "outputs": [
    {
     "data": {
      "text/plain": [
       "array([[[0.46039441, 0.35284027, 0.47522963],\n",
       "        [0.15469256, 0.98569105, 0.17212917]],\n",
       "\n",
       "       [[0.43131704, 0.96721089, 0.34374773],\n",
       "        [0.23267138, 0.52105739, 0.56626124]],\n",
       "\n",
       "       [[0.46978742, 0.39199381, 0.32652764],\n",
       "        [0.2287671 , 0.5904688 , 0.11782486]]])"
      ]
     },
     "execution_count": 21,
     "metadata": {},
     "output_type": "execute_result"
    }
   ],
   "source": [
    "randomArr = np.random.rand(3,2,3)\n",
    "randomArr"
   ]
  },
  {
   "cell_type": "code",
   "execution_count": 22,
   "id": "bce35646-6db1-4054-840a-371c8ce2e77f",
   "metadata": {},
   "outputs": [
    {
     "data": {
      "text/plain": [
       "dtype('float64')"
      ]
     },
     "execution_count": 22,
     "metadata": {},
     "output_type": "execute_result"
    }
   ],
   "source": [
    "randomArr.dtype\n"
   ]
  },
  {
   "cell_type": "code",
   "execution_count": 23,
   "id": "0d30dc92-59dd-4755-8825-6ab27fc43819",
   "metadata": {},
   "outputs": [
    {
     "data": {
      "text/plain": [
       "array([[[0., 0., 0.],\n",
       "        [0., 0., 0.]],\n",
       "\n",
       "       [[0., 0., 0.],\n",
       "        [0., 0., 0.]],\n",
       "\n",
       "       [[0., 0., 0.],\n",
       "        [0., 0., 0.]]])"
      ]
     },
     "execution_count": 23,
     "metadata": {},
     "output_type": "execute_result"
    }
   ],
   "source": [
    "zeroes = np.zeros((3,2,3))\n",
    "zeroes"
   ]
  },
  {
   "cell_type": "code",
   "execution_count": 24,
   "id": "8408f1bb-b9ed-4048-a0fb-c40c256f3249",
   "metadata": {},
   "outputs": [
    {
     "data": {
      "text/plain": [
       "3"
      ]
     },
     "execution_count": 24,
     "metadata": {},
     "output_type": "execute_result"
    }
   ],
   "source": [
    "zeroes.ndim"
   ]
  },
  {
   "cell_type": "code",
   "execution_count": 25,
   "id": "42c82896-00a1-430c-8baf-38a7ec053a4b",
   "metadata": {},
   "outputs": [
    {
     "data": {
      "text/plain": [
       "array([[[9, 9, 9],\n",
       "        [9, 9, 9]],\n",
       "\n",
       "       [[9, 9, 9],\n",
       "        [9, 9, 9]],\n",
       "\n",
       "       [[9, 9, 9],\n",
       "        [9, 9, 9]]])"
      ]
     },
     "execution_count": 25,
     "metadata": {},
     "output_type": "execute_result"
    }
   ],
   "source": [
    "full = np.full((3,2,3),9)\n",
    "full"
   ]
  },
  {
   "cell_type": "code",
   "execution_count": 26,
   "id": "ea55b719-bd1a-48d1-b857-9db6e52fea97",
   "metadata": {},
   "outputs": [
    {
     "data": {
      "text/plain": [
       "array([[[1., 1., 1.],\n",
       "        [1., 1., 1.]],\n",
       "\n",
       "       [[1., 1., 1.],\n",
       "        [1., 1., 1.]],\n",
       "\n",
       "       [[1., 1., 1.],\n",
       "        [1., 1., 1.]]])"
      ]
     },
     "execution_count": 26,
     "metadata": {},
     "output_type": "execute_result"
    }
   ],
   "source": [
    "ones = np.ones((3,2,3))\n",
    "ones"
   ]
  },
  {
   "cell_type": "code",
   "execution_count": 27,
   "id": "46d02252-423b-4e9f-bbe9-40a211837769",
   "metadata": {},
   "outputs": [
    {
     "data": {
      "text/plain": [
       "array([[[ 1,  4,  5],\n",
       "        [ 6,  7,  4]],\n",
       "\n",
       "       [[ 3,  5,  4],\n",
       "        [ 5,  8,  7]],\n",
       "\n",
       "       [[ 3,  7,  9],\n",
       "        [ 4, 10, 11]]])"
      ]
     },
     "execution_count": 27,
     "metadata": {},
     "output_type": "execute_result"
    }
   ],
   "source": [
    "arr3"
   ]
  },
  {
   "cell_type": "code",
   "execution_count": 28,
   "id": "b69a429a-bc47-4cd7-9e40-8edccd7d4d3e",
   "metadata": {},
   "outputs": [
    {
     "data": {
      "text/plain": [
       "5"
      ]
     },
     "execution_count": 28,
     "metadata": {},
     "output_type": "execute_result"
    }
   ],
   "source": [
    "int(arr3[0][0][2])"
   ]
  },
  {
   "cell_type": "code",
   "execution_count": 29,
   "id": "ea6611fc-a441-4ebb-b097-e4699f3858a5",
   "metadata": {},
   "outputs": [
    {
     "data": {
      "text/plain": [
       "array([[ 3,  7,  9],\n",
       "       [ 4, 10, 11]])"
      ]
     },
     "execution_count": 29,
     "metadata": {},
     "output_type": "execute_result"
    }
   ],
   "source": [
    "arr3[2]"
   ]
  },
  {
   "cell_type": "code",
   "execution_count": 30,
   "id": "61802337-2f96-468b-85e4-2fe89da4f3ba",
   "metadata": {},
   "outputs": [
    {
     "data": {
      "text/plain": [
       "5"
      ]
     },
     "execution_count": 30,
     "metadata": {},
     "output_type": "execute_result"
    }
   ],
   "source": [
    "int(arr3[1][0][1])"
   ]
  },
  {
   "cell_type": "code",
   "execution_count": 31,
   "id": "88b5649b-b711-45e9-8aac-15f81b60c2fc",
   "metadata": {},
   "outputs": [
    {
     "data": {
      "text/plain": [
       "5"
      ]
     },
     "execution_count": 31,
     "metadata": {},
     "output_type": "execute_result"
    }
   ],
   "source": [
    "int(arr3[1,0,1])"
   ]
  },
  {
   "cell_type": "code",
   "execution_count": null,
   "id": "ed6eeae7-7c73-4db4-85ff-4b056c5ad55a",
   "metadata": {},
   "outputs": [],
   "source": []
  },
  {
   "cell_type": "markdown",
   "id": "a8e95104-4dff-4faf-ae2d-9f428ae161bf",
   "metadata": {},
   "source": [
    "## update and delete"
   ]
  },
  {
   "cell_type": "code",
   "execution_count": 32,
   "id": "25069bbe-359b-472e-b0da-ae88e79af89a",
   "metadata": {},
   "outputs": [],
   "source": [
    "a1 = np.random.rand(2,3,2)\n",
    "a2 = np.random.rand(2,3,2)\n"
   ]
  },
  {
   "cell_type": "code",
   "execution_count": 33,
   "id": "75c2f6bc-ea3e-4ce0-b85a-cce4b31a3234",
   "metadata": {},
   "outputs": [
    {
     "data": {
      "text/plain": [
       "array([[[0.48903645, 0.44494629],\n",
       "        [0.91260949, 0.55388912],\n",
       "        [0.92440447, 0.50726267]],\n",
       "\n",
       "       [[0.35447767, 0.43533847],\n",
       "        [0.28116736, 0.66960137],\n",
       "        [0.00203121, 0.78149027]]])"
      ]
     },
     "execution_count": 33,
     "metadata": {},
     "output_type": "execute_result"
    }
   ],
   "source": [
    "a1"
   ]
  },
  {
   "cell_type": "code",
   "execution_count": 34,
   "id": "add86658-0e9f-41ba-9740-3613e2d54ed9",
   "metadata": {},
   "outputs": [
    {
     "data": {
      "text/plain": [
       "array([[[0.84786795, 0.75940016],\n",
       "        [0.27657209, 0.47963567],\n",
       "        [0.54320388, 0.28614953]],\n",
       "\n",
       "       [[0.21988466, 0.17006685],\n",
       "        [0.05407895, 0.42331479],\n",
       "        [0.08591418, 0.36948533]]])"
      ]
     },
     "execution_count": 34,
     "metadata": {},
     "output_type": "execute_result"
    }
   ],
   "source": [
    "a2"
   ]
  },
  {
   "cell_type": "markdown",
   "id": "09cae871-5b08-43c6-af6b-deafc03c8e1c",
   "metadata": {},
   "source": [
    "### basic math operations"
   ]
  },
  {
   "cell_type": "code",
   "execution_count": 35,
   "id": "2c709f1e-26d9-405b-a64d-284611b8e3b8",
   "metadata": {},
   "outputs": [
    {
     "data": {
      "text/plain": [
       "array([[[1.3369044 , 1.20434645],\n",
       "        [1.18918158, 1.03352479],\n",
       "        [1.46760835, 0.7934122 ]],\n",
       "\n",
       "       [[0.57436233, 0.60540532],\n",
       "        [0.33524631, 1.09291616],\n",
       "        [0.08794539, 1.1509756 ]]])"
      ]
     },
     "execution_count": 35,
     "metadata": {},
     "output_type": "execute_result"
    }
   ],
   "source": [
    "np.add(a1,a2)"
   ]
  },
  {
   "cell_type": "code",
   "execution_count": 36,
   "id": "b351399f-78d3-4ea4-a130-4972d1669d9e",
   "metadata": {},
   "outputs": [
    {
     "data": {
      "text/plain": [
       "array([[[-0.3588315 , -0.31445387],\n",
       "        [ 0.63603739,  0.07425345],\n",
       "        [ 0.38120059,  0.22111314]],\n",
       "\n",
       "       [[ 0.13459301,  0.26527162],\n",
       "        [ 0.22708841,  0.24628658],\n",
       "        [-0.08388297,  0.41200493]]])"
      ]
     },
     "execution_count": 36,
     "metadata": {},
     "output_type": "execute_result"
    }
   ],
   "source": [
    "np.subtract(a1,a2)"
   ]
  },
  {
   "cell_type": "code",
   "execution_count": 37,
   "id": "98a25b06-2215-4cb6-b96d-88497063b957",
   "metadata": {},
   "outputs": [
    {
     "data": {
      "text/plain": [
       "array([[[0.57678374, 0.58591809],\n",
       "        [3.29971643, 1.15481219],\n",
       "        [1.70176338, 1.77271889]],\n",
       "\n",
       "       [[1.61210735, 2.55980791],\n",
       "        [5.19920171, 1.58180481],\n",
       "        [0.02364231, 2.11507792]]])"
      ]
     },
     "execution_count": 37,
     "metadata": {},
     "output_type": "execute_result"
    }
   ],
   "source": [
    "np.divide(a1,a2)"
   ]
  },
  {
   "cell_type": "code",
   "execution_count": 38,
   "id": "42e98dbc-e149-411a-bba5-851ebf874972",
   "metadata": {},
   "outputs": [
    {
     "data": {
      "text/plain": [
       "array([[[4.14638334e-01, 3.37892285e-01],\n",
       "        [2.52402317e-01, 2.65664980e-01],\n",
       "        [5.02140096e-01, 1.45152974e-01]],\n",
       "\n",
       "       [[7.79442010e-02, 7.40366427e-02],\n",
       "        [1.52052350e-02, 2.83452161e-01],\n",
       "        [1.74509696e-04, 2.88749190e-01]]])"
      ]
     },
     "execution_count": 38,
     "metadata": {},
     "output_type": "execute_result"
    }
   ],
   "source": [
    "np.multiply(a1,a2)"
   ]
  },
  {
   "cell_type": "code",
   "execution_count": null,
   "id": "47a3ea0d-0cb0-429b-8b4c-3d6d5f9fb3ff",
   "metadata": {},
   "outputs": [],
   "source": []
  },
  {
   "cell_type": "markdown",
   "id": "dba24c4d-8d5d-4168-b027-a8d9aa749ce2",
   "metadata": {},
   "source": [
    "### statistical operations"
   ]
  },
  {
   "cell_type": "code",
   "execution_count": 39,
   "id": "4925a01c-7577-4430-909b-c419b0c96bf2",
   "metadata": {},
   "outputs": [],
   "source": [
    "sqrt = int(np.sqrt(25))\n",
    "abs = np.abs(-2)\n",
    "power = np.power(2,8)\n",
    "log = np.log(25)\n",
    "mins = np.min(a1)\n",
    "maxs = np.max(a2)\n",
    "             "
   ]
  },
  {
   "cell_type": "code",
   "execution_count": 40,
   "id": "074d108b-8b3a-49a0-ad45-4cc3ebf6f325",
   "metadata": {},
   "outputs": [
    {
     "data": {
      "text/plain": [
       "5"
      ]
     },
     "execution_count": 40,
     "metadata": {},
     "output_type": "execute_result"
    }
   ],
   "source": [
    "sqrt"
   ]
  },
  {
   "cell_type": "code",
   "execution_count": 41,
   "id": "f1b20468-ab90-4e17-b063-ebc3486ccb17",
   "metadata": {},
   "outputs": [
    {
     "data": {
      "text/plain": [
       "np.int64(2)"
      ]
     },
     "execution_count": 41,
     "metadata": {},
     "output_type": "execute_result"
    }
   ],
   "source": [
    "abs"
   ]
  },
  {
   "cell_type": "code",
   "execution_count": 42,
   "id": "181d82e6-65c8-41e8-8d79-fc5ac94b765d",
   "metadata": {},
   "outputs": [
    {
     "data": {
      "text/plain": [
       "np.int64(256)"
      ]
     },
     "execution_count": 42,
     "metadata": {},
     "output_type": "execute_result"
    }
   ],
   "source": [
    "power"
   ]
  },
  {
   "cell_type": "code",
   "execution_count": 43,
   "id": "9b0a1898-c99b-4911-92cf-6fa8d53738ba",
   "metadata": {},
   "outputs": [
    {
     "data": {
      "text/plain": [
       "np.float64(3.2188758248682006)"
      ]
     },
     "execution_count": 43,
     "metadata": {},
     "output_type": "execute_result"
    }
   ],
   "source": [
    "log\n"
   ]
  },
  {
   "cell_type": "code",
   "execution_count": 44,
   "id": "4311b5a5-17e6-4f9b-ba24-35bdfe5ed702",
   "metadata": {},
   "outputs": [
    {
     "data": {
      "text/plain": [
       "np.float64(0.002031209379582455)"
      ]
     },
     "execution_count": 44,
     "metadata": {},
     "output_type": "execute_result"
    }
   ],
   "source": [
    "mins"
   ]
  },
  {
   "cell_type": "code",
   "execution_count": 45,
   "id": "508d3943-5693-49aa-a6cc-13dd174a0ee7",
   "metadata": {},
   "outputs": [
    {
     "data": {
      "text/plain": [
       "np.float64(0.8478679540062916)"
      ]
     },
     "execution_count": 45,
     "metadata": {},
     "output_type": "execute_result"
    }
   ],
   "source": [
    "maxs"
   ]
  },
  {
   "cell_type": "markdown",
   "id": "e051ff51-f512-4293-94bd-5470ce565876",
   "metadata": {},
   "source": [
    "### update the values"
   ]
  },
  {
   "cell_type": "code",
   "execution_count": 46,
   "id": "6e257c50-9a00-4287-980a-58a203084faf",
   "metadata": {},
   "outputs": [
    {
     "data": {
      "text/plain": [
       "array([[[ 1,  4,  5],\n",
       "        [ 6,  7,  4]],\n",
       "\n",
       "       [[ 3,  5,  4],\n",
       "        [ 5,  8,  7]],\n",
       "\n",
       "       [[ 3,  7,  9],\n",
       "        [ 4, 10, 11]]])"
      ]
     },
     "execution_count": 46,
     "metadata": {},
     "output_type": "execute_result"
    }
   ],
   "source": [
    "arr3\n"
   ]
  },
  {
   "cell_type": "code",
   "execution_count": 47,
   "id": "56796a19-5675-4e5c-b214-c2700800ec59",
   "metadata": {},
   "outputs": [
    {
     "data": {
      "text/plain": [
       "array([[[ 1,  4, 50],\n",
       "        [ 6,  7,  4]],\n",
       "\n",
       "       [[ 3,  5,  4],\n",
       "        [ 5,  8,  7]],\n",
       "\n",
       "       [[ 3,  7,  9],\n",
       "        [ 4, 10, 11]]])"
      ]
     },
     "execution_count": 47,
     "metadata": {},
     "output_type": "execute_result"
    }
   ],
   "source": [
    "arr3[0,0,2] = 50\n",
    "arr3"
   ]
  },
  {
   "cell_type": "code",
   "execution_count": 48,
   "id": "69b9ad2c-5435-4f0e-8a28-6c892156aed8",
   "metadata": {},
   "outputs": [
    {
     "data": {
      "text/plain": [
       "array([[[ 1,  4, 50],\n",
       "        [ 4,  6,  7]],\n",
       "\n",
       "       [[ 3,  4,  5],\n",
       "        [ 5,  7,  8]],\n",
       "\n",
       "       [[ 3,  7,  9],\n",
       "        [ 4, 10, 11]]])"
      ]
     },
     "execution_count": 48,
     "metadata": {},
     "output_type": "execute_result"
    }
   ],
   "source": [
    "arr3.sort()\n",
    "arr3"
   ]
  },
  {
   "cell_type": "markdown",
   "id": "802aaaee-8470-45e1-93e6-d8e776f7bf39",
   "metadata": {},
   "source": [
    "### reshape"
   ]
  },
  {
   "cell_type": "code",
   "execution_count": 49,
   "id": "5ed11535-43b7-40d2-9a15-0c886954d32e",
   "metadata": {},
   "outputs": [
    {
     "data": {
      "text/plain": [
       "array([[[ 1,  4, 50],\n",
       "        [ 4,  6,  7]],\n",
       "\n",
       "       [[ 3,  4,  5],\n",
       "        [ 5,  7,  8]],\n",
       "\n",
       "       [[ 3,  7,  9],\n",
       "        [ 4, 10, 11]]])"
      ]
     },
     "execution_count": 49,
     "metadata": {},
     "output_type": "execute_result"
    }
   ],
   "source": [
    "arr3.shape\n",
    "arr3"
   ]
  },
  {
   "cell_type": "code",
   "execution_count": 50,
   "id": "07310f60-d032-4830-bff7-8385bb48bae5",
   "metadata": {},
   "outputs": [
    {
     "data": {
      "text/plain": [
       "(3, 2, 3)"
      ]
     },
     "execution_count": 50,
     "metadata": {},
     "output_type": "execute_result"
    }
   ],
   "source": [
    "arr3.shape"
   ]
  },
  {
   "cell_type": "code",
   "execution_count": 51,
   "id": "ffa7e958-8944-49cc-a520-b2a20c3ed1a0",
   "metadata": {},
   "outputs": [
    {
     "data": {
      "text/plain": [
       "array([[[ 1,  4, 50],\n",
       "        [ 4,  6,  7],\n",
       "        [ 3,  4,  5]],\n",
       "\n",
       "       [[ 5,  7,  8],\n",
       "        [ 3,  7,  9],\n",
       "        [ 4, 10, 11]]])"
      ]
     },
     "execution_count": 51,
     "metadata": {},
     "output_type": "execute_result"
    }
   ],
   "source": [
    "arr3_reshape = arr3.reshape((2,3,-1))\n",
    "arr3_reshape"
   ]
  },
  {
   "cell_type": "code",
   "execution_count": 52,
   "id": "387475a5-a5cd-4867-b5d3-9daa1efa33b8",
   "metadata": {},
   "outputs": [
    {
     "data": {
      "text/plain": [
       "(2, 3, 3)"
      ]
     },
     "execution_count": 52,
     "metadata": {},
     "output_type": "execute_result"
    }
   ],
   "source": [
    "arr3_reshape.shape"
   ]
  },
  {
   "cell_type": "markdown",
   "id": "5ffc9f9e-3ab4-4342-a65c-9bd9e28a4514",
   "metadata": {},
   "source": [
    "## updating and inserting"
   ]
  },
  {
   "cell_type": "code",
   "execution_count": 53,
   "id": "15028712-ca33-47fb-b5fa-a1b398243629",
   "metadata": {},
   "outputs": [
    {
     "data": {
      "text/plain": [
       "array([[[0., 0., 0.],\n",
       "        [0., 0., 0.]],\n",
       "\n",
       "       [[0., 0., 0.],\n",
       "        [0., 0., 0.]],\n",
       "\n",
       "       [[0., 0., 0.],\n",
       "        [0., 0., 0.]]])"
      ]
     },
     "execution_count": 53,
     "metadata": {},
     "output_type": "execute_result"
    }
   ],
   "source": [
    "zeroes"
   ]
  },
  {
   "cell_type": "code",
   "execution_count": 54,
   "id": "a45f15a6-0475-47cd-9d99-c4858bfec56a",
   "metadata": {},
   "outputs": [
    {
     "data": {
      "text/plain": [
       "array([[[1., 1., 1.],\n",
       "        [1., 1., 1.]],\n",
       "\n",
       "       [[1., 1., 1.],\n",
       "        [1., 1., 1.]],\n",
       "\n",
       "       [[1., 1., 1.],\n",
       "        [1., 1., 1.]]])"
      ]
     },
     "execution_count": 54,
     "metadata": {},
     "output_type": "execute_result"
    }
   ],
   "source": [
    "#create a new array \n",
    "new_array = np.ones((3,2,3))\n",
    "new_array"
   ]
  },
  {
   "cell_type": "code",
   "execution_count": 55,
   "id": "36073887-36dc-4ac4-acff-5d200132ad4b",
   "metadata": {},
   "outputs": [
    {
     "data": {
      "text/plain": [
       "array([[[0., 0., 0.],\n",
       "        [0., 0., 0.]],\n",
       "\n",
       "       [[0., 0., 0.],\n",
       "        [0., 0., 0.]],\n",
       "\n",
       "       [[0., 0., 0.],\n",
       "        [0., 0., 0.]],\n",
       "\n",
       "       [[1., 1., 1.],\n",
       "        [1., 1., 1.]],\n",
       "\n",
       "       [[1., 1., 1.],\n",
       "        [1., 1., 1.]],\n",
       "\n",
       "       [[1., 1., 1.],\n",
       "        [1., 1., 1.]]])"
      ]
     },
     "execution_count": 55,
     "metadata": {},
     "output_type": "execute_result"
    }
   ],
   "source": [
    "apen = np.append(zeroes,new_array,axis=0) # axis 0 is row axis 1 is column\n",
    "apen"
   ]
  },
  {
   "cell_type": "code",
   "execution_count": 56,
   "id": "5c8d11fb-b9b1-49d3-ad6a-21d841cd9c93",
   "metadata": {},
   "outputs": [],
   "source": [
    "#Insert"
   ]
  },
  {
   "cell_type": "code",
   "execution_count": 57,
   "id": "a151e903-89c9-46fb-85e3-edea389c4ee4",
   "metadata": {},
   "outputs": [
    {
     "data": {
      "text/plain": [
       "array([[[0., 0., 0.],\n",
       "        [0., 0., 0.]],\n",
       "\n",
       "       [[0., 0., 0.],\n",
       "        [0., 0., 0.]],\n",
       "\n",
       "       [[0., 0., 0.],\n",
       "        [0., 0., 0.]]])"
      ]
     },
     "execution_count": 57,
     "metadata": {},
     "output_type": "execute_result"
    }
   ],
   "source": [
    "zeroes"
   ]
  },
  {
   "cell_type": "code",
   "execution_count": 58,
   "id": "007e594a-98ab-4bd6-a68f-00714a68152d",
   "metadata": {},
   "outputs": [
    {
     "data": {
      "text/plain": [
       "array([[[1., 1., 1.],\n",
       "        [1., 1., 1.]],\n",
       "\n",
       "       [[1., 1., 1.],\n",
       "        [1., 1., 1.]],\n",
       "\n",
       "       [[1., 1., 1.],\n",
       "        [1., 1., 1.]]])"
      ]
     },
     "execution_count": 58,
     "metadata": {},
     "output_type": "execute_result"
    }
   ],
   "source": [
    "new_array"
   ]
  },
  {
   "cell_type": "code",
   "execution_count": 59,
   "id": "ed5189d5-6da8-4897-a6fb-2a3c95e3553d",
   "metadata": {},
   "outputs": [
    {
     "data": {
      "text/plain": [
       "array([[[0., 0., 0.],\n",
       "        [0., 0., 0.]],\n",
       "\n",
       "       [[1., 1., 1.],\n",
       "        [1., 1., 1.]],\n",
       "\n",
       "       [[1., 1., 1.],\n",
       "        [1., 1., 1.]],\n",
       "\n",
       "       [[1., 1., 1.],\n",
       "        [1., 1., 1.]],\n",
       "\n",
       "       [[0., 0., 0.],\n",
       "        [0., 0., 0.]],\n",
       "\n",
       "       [[0., 0., 0.],\n",
       "        [0., 0., 0.]]])"
      ]
     },
     "execution_count": 59,
     "metadata": {},
     "output_type": "execute_result"
    }
   ],
   "source": [
    "inserted_array = np.insert(zeroes,1,new_array,axis=0)\n",
    "inserted_array"
   ]
  },
  {
   "cell_type": "markdown",
   "id": "7c0dc9df-ca88-4aed-817d-59bf87af9c2f",
   "metadata": {},
   "source": [
    "## Delete"
   ]
  },
  {
   "cell_type": "code",
   "execution_count": 60,
   "id": "f8a5247a-cc9a-4933-bd3b-4d4fea43dec0",
   "metadata": {},
   "outputs": [
    {
     "data": {
      "text/plain": [
       "array([[[0.61470978, 0.96511041, 0.38789169],\n",
       "        [0.66560292, 0.20033356, 0.61535523]],\n",
       "\n",
       "       [[0.01394222, 0.29614939, 0.65428308],\n",
       "        [0.5694473 , 0.21685705, 0.43504833]],\n",
       "\n",
       "       [[0.86479484, 0.53242738, 0.75608732],\n",
       "        [0.19773032, 0.08008497, 0.74884746]]])"
      ]
     },
     "execution_count": 60,
     "metadata": {},
     "output_type": "execute_result"
    }
   ],
   "source": [
    "arr4 = np.random.rand(3,2,3)\n",
    "arr4"
   ]
  },
  {
   "cell_type": "code",
   "execution_count": 61,
   "id": "443e0fc5-0210-44ef-b322-363c400c1f6f",
   "metadata": {},
   "outputs": [],
   "source": [
    "#delete the array\n",
    "arr5 = np.delete(arr4,0,axis=1)"
   ]
  },
  {
   "cell_type": "code",
   "execution_count": 62,
   "id": "d8feb745-20c1-45a9-9047-4b2c700173db",
   "metadata": {},
   "outputs": [
    {
     "data": {
      "text/plain": [
       "array([[[0.66560292, 0.20033356, 0.61535523]],\n",
       "\n",
       "       [[0.5694473 , 0.21685705, 0.43504833]],\n",
       "\n",
       "       [[0.19773032, 0.08008497, 0.74884746]]])"
      ]
     },
     "execution_count": 62,
     "metadata": {},
     "output_type": "execute_result"
    }
   ],
   "source": [
    "arr5"
   ]
  },
  {
   "cell_type": "code",
   "execution_count": 63,
   "id": "70ccf71f-0ba1-4db8-97b7-c0a1f07f7c8f",
   "metadata": {},
   "outputs": [],
   "source": [
    "np.save('New_array',arr5) # name of the file and which array should we store"
   ]
  },
  {
   "cell_type": "markdown",
   "id": "5a653f95-23ea-4433-a623-0906c6b6ac88",
   "metadata": {},
   "source": [
    "## Load the file "
   ]
  },
  {
   "cell_type": "code",
   "execution_count": 65,
   "id": "dc13abbe-8fc3-4bdb-8af6-1d05c86af9f7",
   "metadata": {},
   "outputs": [
    {
     "data": {
      "text/plain": [
       "array([[[0.66560292, 0.20033356, 0.61535523]],\n",
       "\n",
       "       [[0.5694473 , 0.21685705, 0.43504833]],\n",
       "\n",
       "       [[0.19773032, 0.08008497, 0.74884746]]])"
      ]
     },
     "execution_count": 65,
     "metadata": {},
     "output_type": "execute_result"
    }
   ],
   "source": [
    "np.load('New_array.npy')"
   ]
  },
  {
   "cell_type": "code",
   "execution_count": null,
   "id": "07540a0c-24e0-4eaf-ae8e-32d6a46665af",
   "metadata": {},
   "outputs": [],
   "source": []
  }
 ],
 "metadata": {
  "kernelspec": {
   "display_name": "Python 3 (ipykernel)",
   "language": "python",
   "name": "python3"
  },
  "language_info": {
   "codemirror_mode": {
    "name": "ipython",
    "version": 3
   },
   "file_extension": ".py",
   "mimetype": "text/x-python",
   "name": "python",
   "nbconvert_exporter": "python",
   "pygments_lexer": "ipython3",
   "version": "3.13.5"
  }
 },
 "nbformat": 4,
 "nbformat_minor": 5
}
